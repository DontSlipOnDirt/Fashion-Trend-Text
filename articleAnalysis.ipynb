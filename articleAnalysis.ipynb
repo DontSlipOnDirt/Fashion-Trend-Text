{
 "cells": [
  {
   "cell_type": "markdown",
   "metadata": {},
   "source": [
    "# Scraping article"
   ]
  },
  {
   "cell_type": "code",
   "execution_count": 1,
   "metadata": {},
   "outputs": [],
   "source": [
    "import requests\n",
    "from bs4 import BeautifulSoup"
   ]
  },
  {
   "cell_type": "code",
   "execution_count": 2,
   "metadata": {},
   "outputs": [
    {
     "name": "stdout",
     "output_type": "stream",
     "text": [
      "Title: Embracing comfort: Woven footwear for SS24\n",
      "Content: As we step into the warmer months, the fashion industry is witnessing a significant revival of woven footwear, marking a stylish convergence of tradition and contemporary flair. The concept of woven s ...\n"
     ]
    }
   ],
   "source": [
    "# Define the URL of the webpage you want to scrape\n",
    "url = \"https://fashionunited.com/news/fashion/embracing-comfort-woven-footwear-for-ss24/2024050859770\"\n",
    "\n",
    "# Send a GET request to the URL and retrieve the webpage content\n",
    "response = requests.get(url)\n",
    "\n",
    "# Create a BeautifulSoup object by passing the webpage content and specifying the parser\n",
    "soup = BeautifulSoup(response.content, \"html.parser\")\n",
    "\n",
    "# Extract the title\n",
    "title = soup.find(\"h1\").text\n",
    "\n",
    "# Extract the article content\n",
    "content = soup.find(\"div\", class_=\"css-1s0my6s e15wwp330\").get_text(strip=True)\n",
    "\n",
    "# Display the extracted information\n",
    "print(\"Title:\", title)\n",
    "print(\"Content:\", content[:200], \"...\")  # Display the first 200 characters for preview\n"
   ]
  },
  {
   "cell_type": "markdown",
   "metadata": {},
   "source": [
    "# Processing with ChatGPT"
   ]
  },
  {
   "cell_type": "code",
   "execution_count": 3,
   "metadata": {},
   "outputs": [],
   "source": [
    "from langchain_openai import ChatOpenAI\n",
    "from langchain_core.prompts import ChatPromptTemplate\n",
    "import private # private.py file with keys"
   ]
  },
  {
   "cell_type": "code",
   "execution_count": 4,
   "metadata": {},
   "outputs": [],
   "source": [
    "def getFashionTerms(articleContent):\n",
    "\n",
    "    # Initialize the chat model\n",
    "    llm = ChatOpenAI(model=\"gpt-3.5-turbo-0125\", temperature=0, api_key=private.ChatOpenAI_KEY)\n",
    "\n",
    "    prompt = ChatPromptTemplate.from_messages(\n",
    "        [\n",
    "            (\n",
    "                \"system\",\n",
    "                \"\"\"You are a helpful assistant that gets the fashion terms from the given article content. These terms are going to be used later to analyse the frequency and predict the trends.\n",
    "                These terms are fashion_items, fashion_brands, fashion_styles, fashion_patterns, fashion_materials, fashion_trends.\n",
    "                After getting these terms, return a raw python dictionary with the keys as the terms and the values as the list of terms. \n",
    "                The article content is: {input}\"\"\",\n",
    "            ),\n",
    "        ]\n",
    "    )\n",
    "\n",
    "    chain = prompt | llm\n",
    "\n",
    "    # Generate a response from the chat model\n",
    "    response = chain.invoke(\n",
    "        {\n",
    "            \"input\": articleContent,\n",
    "        }\n",
    "    )\n",
    "        \n",
    "    return response\n",
    "\n",
    "# Get the fashion terms from the article content\n",
    "response = getFashionTerms(content)"
   ]
  },
  {
   "cell_type": "code",
   "execution_count": 5,
   "metadata": {},
   "outputs": [
    {
     "name": "stdout",
     "output_type": "stream",
     "text": [
      "Fashion Items: ['woven footwear', 'shoes', 'clog', 'slippers', 'sandals']\n",
      "Fashion Brands: ['Freedom Moses']\n",
      "Fashion Styles: ['boho-chic', 'high-fashion', 'street style', 'modern bohemian']\n",
      "Fashion Patterns: ['intricate weaves', 'traditional patterns', 'metallic hues']\n",
      "Fashion Materials: ['natural materials', 'synthetic blends', 'natural fibres', 'vegan materials']\n",
      "Fashion Trends: ['woven footwear', 'vibrant colours', 'metallic hues', 'sustainable fashion', 'ethical manufacturing']\n"
     ]
    }
   ],
   "source": [
    "# get only the content from the response\n",
    "response_content = response.content\n",
    "response_dict = eval(response_content)\n",
    "# separate the fashion terms\n",
    "fashion_items = response_dict['fashion_items']\n",
    "fashion_brands = response_dict['fashion_brands']\n",
    "fashion_styles = response_dict['fashion_styles']\n",
    "fashion_patterns = response_dict['fashion_patterns']\n",
    "fashion_materials = response_dict['fashion_materials']\n",
    "fashion_trends = response_dict['fashion_trends']\n",
    "\n",
    "# Display the extracted fashion terms\n",
    "print(\"Fashion Items:\", fashion_items)\n",
    "print(\"Fashion Brands:\", fashion_brands)\n",
    "print(\"Fashion Styles:\", fashion_styles)\n",
    "print(\"Fashion Patterns:\", fashion_patterns)\n",
    "print(\"Fashion Materials:\", fashion_materials)\n",
    "print(\"Fashion Trends:\", fashion_trends)\n"
   ]
  },
  {
   "cell_type": "code",
   "execution_count": 7,
   "metadata": {},
   "outputs": [
    {
     "name": "stdout",
     "output_type": "stream",
     "text": [
      "Fashion Items DataFrame:\n",
      "         date            term  frequency\n",
      "0  2024-05-15  woven footwear          1\n",
      "1  2024-05-15           shoes          1\n",
      "2  2024-05-15            clog          1\n",
      "3  2024-05-15        slippers          1\n",
      "4  2024-05-15         sandals          1\n",
      "\n",
      "Fashion Brands DataFrame:\n",
      "         date           term  frequency\n",
      "0  2024-05-15  Freedom Moses          1\n",
      "\n",
      "Fashion Styles DataFrame:\n",
      "         date             term  frequency\n",
      "0  2024-05-15        boho-chic          1\n",
      "1  2024-05-15     high-fashion          1\n",
      "2  2024-05-15     street style          1\n",
      "3  2024-05-15  modern bohemian          1\n",
      "\n",
      "Fashion Patterns DataFrame:\n",
      "         date                  term  frequency\n",
      "0  2024-05-15      intricate weaves          1\n",
      "1  2024-05-15  traditional patterns          1\n",
      "2  2024-05-15         metallic hues          1\n",
      "\n",
      "Fashion Materials DataFrame:\n",
      "         date               term  frequency\n",
      "0  2024-05-15  natural materials          1\n",
      "1  2024-05-15   synthetic blends          1\n",
      "2  2024-05-15     natural fibres          1\n",
      "3  2024-05-15    vegan materials          1\n"
     ]
    }
   ],
   "source": [
    "# store each set of fashion terms in a tabular format with the following columns: date, term, frequency\n",
    "import pandas as pd\n",
    "from datetime import datetime\n",
    "\n",
    "# Get the current date\n",
    "date = datetime.now().strftime(\"%Y-%m-%d\")\n",
    "\n",
    "# Create a DataFrame for fashion items\n",
    "fashion_items_data = {\n",
    "    \"date\": [date] * len(fashion_items),\n",
    "    \"term\": fashion_items,\n",
    "    \"frequency\": [1] * len(fashion_items),\n",
    "}\n",
    "fashion_items_df = pd.DataFrame(fashion_items_data)\n",
    "\n",
    "# Create a DataFrame for fashion brands\n",
    "fashion_brands_data = {\n",
    "    \"date\": [date] * len(fashion_brands),\n",
    "    \"term\": fashion_brands,\n",
    "    \"frequency\": [1] * len(fashion_brands),\n",
    "}\n",
    "fashion_brands_df = pd.DataFrame(fashion_brands_data)\n",
    "\n",
    "# Create a DataFrame for fashion styles\n",
    "fashion_styles_data = {\n",
    "    \"date\": [date] * len(fashion_styles),\n",
    "    \"term\": fashion_styles,\n",
    "    \"frequency\": [1] * len(fashion_styles),\n",
    "}\n",
    "fashion_styles_df = pd.DataFrame(fashion_styles_data)\n",
    "\n",
    "# Create a DataFrame for fashion patterns\n",
    "fashion_patterns_data = {\n",
    "    \"date\": [date] * len(fashion_patterns),\n",
    "    \"term\": fashion_patterns,\n",
    "    \"frequency\": [1] * len(fashion_patterns),\n",
    "}\n",
    "fashion_patterns_df = pd.DataFrame(fashion_patterns_data)\n",
    "\n",
    "# Create a DataFrame for fashion materials\n",
    "fashion_materials_data = {\n",
    "    \"date\": [date] * len(fashion_materials),\n",
    "    \"term\": fashion_materials,\n",
    "    \"frequency\": [1] * len(fashion_materials),\n",
    "}\n",
    "fashion_materials_df = pd.DataFrame(fashion_materials_data)\n",
    "\n",
    "# Display all the DataFrames\n",
    "print(\"Fashion Items DataFrame:\")\n",
    "print(fashion_items_df)\n",
    "\n",
    "print(\"\\nFashion Brands DataFrame:\")\n",
    "print(fashion_brands_df)\n",
    "\n",
    "print(\"\\nFashion Styles DataFrame:\")\n",
    "print(fashion_styles_df)\n",
    "\n",
    "print(\"\\nFashion Patterns DataFrame:\")\n",
    "print(fashion_patterns_df)\n",
    "\n",
    "print(\"\\nFashion Materials DataFrame:\")\n",
    "print(fashion_materials_df)"
   ]
  }
 ],
 "metadata": {
  "kernelspec": {
   "display_name": "Python 3",
   "language": "python",
   "name": "python3"
  },
  "language_info": {
   "codemirror_mode": {
    "name": "ipython",
    "version": 3
   },
   "file_extension": ".py",
   "mimetype": "text/x-python",
   "name": "python",
   "nbconvert_exporter": "python",
   "pygments_lexer": "ipython3",
   "version": "3.12.2"
  }
 },
 "nbformat": 4,
 "nbformat_minor": 2
}
