{
 "cells": [
  {
   "cell_type": "markdown",
   "metadata": {},
   "source": [
    "# Scraping article"
   ]
  },
  {
   "cell_type": "code",
   "execution_count": 22,
   "metadata": {},
   "outputs": [],
   "source": [
    "import requests\n",
    "from bs4 import BeautifulSoup"
   ]
  },
  {
   "cell_type": "code",
   "execution_count": 23,
   "metadata": {},
   "outputs": [
    {
     "name": "stdout",
     "output_type": "stream",
     "text": [
      "Title: Embracing comfort: Woven footwear for SS24\n",
      "Content: As we step into the warmer months, the fashion industry is witnessing a significant revival of woven footwear, marking a stylish convergence of tradition and contemporary flair. The concept of woven s ...\n"
     ]
    }
   ],
   "source": [
    "# Define the URL of the webpage you want to scrape\n",
    "url = \"https://fashionunited.com/news/fashion/embracing-comfort-woven-footwear-for-ss24/2024050859770\"\n",
    "\n",
    "# Send a GET request to the URL and retrieve the webpage content\n",
    "response = requests.get(url)\n",
    "\n",
    "# Create a BeautifulSoup object by passing the webpage content and specifying the parser\n",
    "soup = BeautifulSoup(response.content, \"html.parser\")\n",
    "\n",
    "# Extract the title\n",
    "title = soup.find(\"h1\").text\n",
    "\n",
    "# Extract the article content\n",
    "content = soup.find(\"div\", class_=\"css-1s0my6s e15wwp330\").get_text(strip=True)\n",
    "\n",
    "# Display the extracted information\n",
    "print(\"Title:\", title)\n",
    "print(\"Content:\", content[:200], \"...\")  # Display the first 200 characters for preview\n"
   ]
  },
  {
   "cell_type": "markdown",
   "metadata": {},
   "source": [
    "# Processing with ChatGPT"
   ]
  },
  {
   "cell_type": "code",
   "execution_count": 24,
   "metadata": {},
   "outputs": [],
   "source": [
    "from langchain_openai import ChatOpenAI\n",
    "from langchain_core.prompts import ChatPromptTemplate\n",
    "import private"
   ]
  },
  {
   "cell_type": "code",
   "execution_count": 26,
   "metadata": {},
   "outputs": [],
   "source": [
    "def getFashionTerms(articleContent):\n",
    "\n",
    "    # Initialize the chat model\n",
    "    llm = ChatOpenAI(model=\"gpt-3.5-turbo-0125\", temperature=0, api_key=private.ChatOpenAI_KEY)\n",
    "\n",
    "    prompt = ChatPromptTemplate.from_messages(\n",
    "        [\n",
    "            (\n",
    "                \"system\",\n",
    "                \"\"\"You are a helpful assistant that gets the fashion terms from the given article content. These terms are going to be used later to analyse the frequency and predict the trends.\n",
    "                These terms are fashion_items, fashion_brands, fashion_styles, fashion_patterns, fashion_materials, fashion_trends.\n",
    "                After getting these terms, return a raw python dictionary with the keys as the terms and the values as the list of terms. \n",
    "                The article content is: {input}\"\"\",\n",
    "            ),\n",
    "        ]\n",
    "    )\n",
    "\n",
    "    chain = prompt | llm\n",
    "\n",
    "    # Generate a response from the chat model\n",
    "    response = chain.invoke(\n",
    "        {\n",
    "            \"input\": articleContent,\n",
    "        }\n",
    "    )\n",
    "        \n",
    "    return response\n",
    "\n",
    "# Get the fashion terms from the article content\n",
    "response = getFashionTerms(content)"
   ]
  },
  {
   "cell_type": "code",
   "execution_count": 31,
   "metadata": {},
   "outputs": [
    {
     "name": "stdout",
     "output_type": "stream",
     "text": [
      "Fashion Items: ['woven footwear', 'shoes', 'clog', 'slippers', 'sandals']\n",
      "Fashion Brands: ['Freedom Moses']\n",
      "Fashion Styles: ['boho-chic', 'modern bohemian']\n",
      "Fashion Patterns: ['intricate weaves', 'traditional patterns']\n",
      "Fashion Materials: ['natural materials', 'synthetic blends', 'natural fibres', 'vegan materials']\n"
     ]
    }
   ],
   "source": [
    "# get only the content from the response\n",
    "response_content = response.content\n",
    "response_dict = eval(response_content)\n",
    "# separate the fashion terms\n",
    "fashion_items = response_dict['fashion_items']\n",
    "fashion_brands = response_dict['fashion_brands']\n",
    "fashion_styles = response_dict['fashion_styles']\n",
    "fashion_patterns = response_dict['fashion_patterns']\n",
    "fashion_materials = response_dict['fashion_materials']\n",
    "fashion_trends = response_dict['fashion_trends']\n",
    "\n",
    "# Display the extracted fashion terms\n",
    "print(\"Fashion Items:\", fashion_items)\n",
    "print(\"Fashion Brands:\", fashion_brands)\n",
    "print(\"Fashion Styles:\", fashion_styles)\n",
    "print(\"Fashion Patterns:\", fashion_patterns)\n",
    "print(\"Fashion Materials:\", fashion_materials)\n"
   ]
  }
 ],
 "metadata": {
  "kernelspec": {
   "display_name": "Python 3",
   "language": "python",
   "name": "python3"
  },
  "language_info": {
   "codemirror_mode": {
    "name": "ipython",
    "version": 3
   },
   "file_extension": ".py",
   "mimetype": "text/x-python",
   "name": "python",
   "nbconvert_exporter": "python",
   "pygments_lexer": "ipython3",
   "version": "3.12.2"
  }
 },
 "nbformat": 4,
 "nbformat_minor": 2
}
